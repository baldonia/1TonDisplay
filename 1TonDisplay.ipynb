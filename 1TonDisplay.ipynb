{
 "cells": [
  {
   "cell_type": "code",
   "execution_count": 4,
   "metadata": {},
   "outputs": [],
   "source": [
    "import numpy as np\n",
    "import matplotlib.pyplot as plt\n",
    "import matplotlib.cm as cm\n",
    "import uproot\n",
    "import re"
   ]
  },
  {
   "cell_type": "code",
   "execution_count": 10,
   "metadata": {},
   "outputs": [],
   "source": [
    "def load_rq(rq_path):\n",
    "    data = uproot.open(rq_path)\n",
    "    events = data['event']\n",
    "    event_ids = events['event_id'].array(library='np')\n",
    "    aux_ch_areas = events['aux_ch_area_mV'].array(library='np')\n",
    "    areas = events['ch_roi1_area_pe'].array(library='np')\n",
    "    ch_ids = events['ch_id'].array(library='np')\n",
    "    return aux_ch_areas, areas, ch_ids"
   ]
  },
  {
   "cell_type": "code",
   "execution_count": 11,
   "metadata": {},
   "outputs": [],
   "source": [
    "rq_path = 'phase0_muon_water_220918T1559_rq.root'\n",
    "aux_ch_areas, areas, ch_ids = load_rq(rq_path)"
   ]
  },
  {
   "cell_type": "code",
   "execution_count": 26,
   "metadata": {},
   "outputs": [
    {
     "data": {
      "text/plain": [
       "array([101, 102, 103, 104, 105, 106, 107, 108, 109, 110, 111, 112, 113,\n",
       "       114, 115, 200, 201, 202, 203, 204, 205, 206, 207, 208, 209, 210,\n",
       "       211, 212, 213, 214, 300, 301, 302, 303, 304, 305, 306, 307, 308,\n",
       "       309, 310, 311, 312, 313, 314, 315], dtype=uint16)"
      ]
     },
     "execution_count": 26,
     "metadata": {},
     "output_type": "execute_result"
    }
   ],
   "source": [
    "ch_ids[0]"
   ]
  },
  {
   "cell_type": "code",
   "execution_count": 37,
   "metadata": {},
   "outputs": [
    {
     "data": {
      "text/plain": [
       "{101: 'bt_p1',\n",
       " 102: 'bt_p2',\n",
       " 103: 'bt_p3',\n",
       " 104: 'bt_p4',\n",
       " 105: 'bt_p5',\n",
       " 106: 'bt_p6',\n",
       " 107: 'bt_p7',\n",
       " 108: 'bt_p8',\n",
       " 109: 'bt_p9',\n",
       " 110: 'bt_p10',\n",
       " 111: 'bt_p11',\n",
       " 112: 'bt_p12',\n",
       " 113: 'bt_p13',\n",
       " 114: 'bt_p14',\n",
       " 115: 'bt_p15',\n",
       " 200: 'bt_p16',\n",
       " 201: 'bt_p17',\n",
       " 202: 'bt_p18',\n",
       " 203: 'bt_p19',\n",
       " 204: 'bt_p20',\n",
       " 205: 'bt_p21',\n",
       " 206: 'bt_p22',\n",
       " 207: 'bt_p23',\n",
       " 208: 'bt_p24',\n",
       " 209: 'bt_p25',\n",
       " 210: 'bt_p26',\n",
       " 211: 'bt_p27',\n",
       " 212: 'bt_p28',\n",
       " 213: 'bt_p29',\n",
       " 214: 'bt_p30',\n",
       " 300: 'b1_p1',\n",
       " 301: 'b1_p2',\n",
       " 302: 'b1_p3',\n",
       " 303: 'b1_p4',\n",
       " 304: 'b2_p1',\n",
       " 305: 'b2_p2',\n",
       " 306: 'b2_p3',\n",
       " 307: 'b2_p4',\n",
       " 308: 'b3_p1',\n",
       " 309: 'b3_p2',\n",
       " 310: 'b3_p3',\n",
       " 311: 'b3_p4',\n",
       " 312: 'b4_p1',\n",
       " 313: 'b4_p2',\n",
       " 314: 'b4_p3',\n",
       " 315: 'b4_p4'}"
      ]
     },
     "execution_count": 37,
     "metadata": {},
     "output_type": "execute_result"
    }
   ],
   "source": [
    "ch_names = []\n",
    "for i in range(30):\n",
    "    ch_names.append('bt_p'+str(i+1))\n",
    "for i in range(16):\n",
    "    i\n",
    "    col = i//4 + 1\n",
    "    row = i%4 + 1\n",
    "    ch_names.append('b'+str(col)+'_p'+str(row))\n",
    "ch_map = dict(zip(ch_ids[0], ch_names))\n",
    "ch_map"
   ]
  },
  {
   "cell_type": "code",
   "execution_count": 15,
   "metadata": {},
   "outputs": [
    {
     "data": {
      "text/plain": [
       "array([ 2.2322197e+00,  3.2272141e+00,  2.1420624e+00,  2.0778484e+00,\n",
       "        5.6972799e+00,  7.8570323e+00,  2.1583066e+00,  2.8644660e+00,\n",
       "        2.6575282e+00,  3.0644827e+00,  2.7782500e+00,  3.7844369e+00,\n",
       "        7.5806837e+00,  7.9960208e+00,  1.8454517e+01,  1.7987478e+01,\n",
       "        7.4302139e+00,  5.2290444e+00,  4.9154997e+00,  9.4861546e+00,\n",
       "        5.8004193e+00,  3.4826214e+00,  4.4686599e+00,  8.1068783e+00,\n",
       "        6.9218912e+00,  1.4700082e+01,  9.7071352e+00,  1.6901295e+01,\n",
       "        9.5949135e+00,  1.6605843e+01,  4.4405751e+00, -2.7755576e-17,\n",
       "        1.0196363e+01,  2.2124393e+00,  2.3646593e+00,  1.6370931e+00,\n",
       "        7.2493305e+00,  5.4004431e+00,  1.3651459e+00,  2.4809006e-01,\n",
       "        2.5183132e+00,  3.2768843e+00,  2.6643121e+00,  1.0001834e+01,\n",
       "        2.0430336e+01,  5.8374802e+01], dtype=float32)"
      ]
     },
     "execution_count": 15,
     "metadata": {},
     "output_type": "execute_result"
    }
   ],
   "source": [
    "areas[0]"
   ]
  },
  {
   "cell_type": "code",
   "execution_count": 16,
   "metadata": {},
   "outputs": [
    {
     "data": {
      "text/plain": [
       "array([41.018127, 32.71684 ], dtype=float32)"
      ]
     },
     "execution_count": 16,
     "metadata": {},
     "output_type": "execute_result"
    }
   ],
   "source": [
    "aux_ch_areas[0]"
   ]
  },
  {
   "cell_type": "code",
   "execution_count": 150,
   "metadata": {},
   "outputs": [
    {
     "data": {
      "text/plain": [
       "array([[ 253],\n",
       "       [ 315],\n",
       "       [ 502],\n",
       "       [ 689],\n",
       "       [ 711],\n",
       "       [ 922],\n",
       "       [1106],\n",
       "       [1286],\n",
       "       [1688],\n",
       "       [1696],\n",
       "       [1794],\n",
       "       [2096],\n",
       "       [2235],\n",
       "       [2367],\n",
       "       [2426],\n",
       "       [2515],\n",
       "       [2706],\n",
       "       [3169],\n",
       "       [3320],\n",
       "       [3333],\n",
       "       [3482],\n",
       "       [3559],\n",
       "       [3698],\n",
       "       [3827],\n",
       "       [3877],\n",
       "       [3895],\n",
       "       [4145],\n",
       "       [4253],\n",
       "       [4312],\n",
       "       [4414],\n",
       "       [4495],\n",
       "       [4569],\n",
       "       [4650],\n",
       "       [4735],\n",
       "       [4753],\n",
       "       [4902],\n",
       "       [5032],\n",
       "       [5097],\n",
       "       [5124],\n",
       "       [5317],\n",
       "       [5438],\n",
       "       [5484],\n",
       "       [5559],\n",
       "       [5578],\n",
       "       [5829],\n",
       "       [6146],\n",
       "       [6175],\n",
       "       [6189],\n",
       "       [6309],\n",
       "       [6545],\n",
       "       [6570],\n",
       "       [6625],\n",
       "       [6847],\n",
       "       [7238],\n",
       "       [7399],\n",
       "       [7414],\n",
       "       [7461],\n",
       "       [7586],\n",
       "       [7923],\n",
       "       [7969],\n",
       "       [8278],\n",
       "       [8426],\n",
       "       [8478],\n",
       "       [8547],\n",
       "       [8717],\n",
       "       [8766],\n",
       "       [8853],\n",
       "       [8910],\n",
       "       [8924],\n",
       "       [9001],\n",
       "       [9460],\n",
       "       [9550]])"
      ]
     },
     "execution_count": 150,
     "metadata": {},
     "output_type": "execute_result"
    }
   ],
   "source": []
  },
  {
   "cell_type": "code",
   "execution_count": 20,
   "metadata": {},
   "outputs": [
    {
     "data": {
      "text/plain": [
       "(9654, 46)"
      ]
     },
     "execution_count": 20,
     "metadata": {},
     "output_type": "execute_result"
    }
   ],
   "source": [
    "ch_ids.shape"
   ]
  },
  {
   "cell_type": "code",
   "execution_count": 21,
   "metadata": {},
   "outputs": [
    {
     "data": {
      "text/plain": [
       "(9654, 46)"
      ]
     },
     "execution_count": 21,
     "metadata": {},
     "output_type": "execute_result"
    }
   ],
   "source": [
    "areas.shape"
   ]
  },
  {
   "cell_type": "code",
   "execution_count": 222,
   "metadata": {},
   "outputs": [],
   "source": [
    "y = [381. ,  381. ,  381. ,  381. ,  190.5,  190.5,  190.5,  190.5, 190.5,  190.5,  190.5,    0. ,    0. ,    0. ,    0. ,    0. , 0. ,    0. ,    0. , -190.5, -190.5, -190.5, -190.5, -190.5, -190.5, -190.5, -381. , -381. , -381. , -381.]\n",
    "x = [-171.45,  -57.15,   57.15,  171.45, -342.9 , -228.6 , -114.3 , 0.  ,  114.3 ,  228.6 ,  342.9 , -400.05, -285.75, -171.45,-57.15,   57.15,  171.45,  285.75,  400.05, -342.9 , -228.6, -114.3 ,    0.  ,  114.3 ,  228.6 ,  342.9 , -171.45,  -57.15, 57.15,  171.45]\n",
    "y = [-val for val in y]\n",
    "side_x = [1674.33, 1674.33, 1674.33, 1674.33, \\\n",
    "          -837.16, -837.16, -837.16, -837.16, \\\n",
    "          837.16, 837.16, 837.16, 837.16, \\\n",
    "          0, 0, 0, 0, ]\n",
    "side_x = [0, 0, 0, 0, \\\n",
    "          -1603.755, -1432.305, -873.505, -714.755, \\\n",
    "          1603.755, 1432.305, 873.505, 714.755, \\\n",
    "          0, 0, 0, 0]\n",
    "side_y = [-1603.755, -1432.305, -873.505, -714.755, \\\n",
    "          0, 0, 0, 0, \\\n",
    "          0, 0, 0, 0, \\\n",
    "          1603.755, 1432.305, 873.505, 714.755]\n",
    "\n",
    "#side_y = [val + 677.1 + 532.955 for val in side_z]"
   ]
  },
  {
   "cell_type": "code",
   "execution_count": 223,
   "metadata": {},
   "outputs": [],
   "source": [
    "PMTs = {}\n",
    "for i, name in enumerate(ch_names):\n",
    "    if 'bt' in name:\n",
    "        PMTs[name] = {}\n",
    "        PMTs[name]['x'] = x[i]\n",
    "        PMTs[name]['y'] = y[i]\n",
    "    else:\n",
    "        PMTs[name] = {}\n",
    "        PMTs[name]['x'] = side_x[i-30]\n",
    "        PMTs[name]['y'] = side_y[i-30]"
   ]
  },
  {
   "cell_type": "code",
   "execution_count": 224,
   "metadata": {},
   "outputs": [],
   "source": [
    "PMTs = {}\n",
    "PMTs['x'] = x + side_x\n",
    "PMTs['y'] = y + side_y"
   ]
  },
  {
   "cell_type": "code",
   "execution_count": 225,
   "metadata": {},
   "outputs": [
    {
     "data": {
      "image/png": "[encoded data removed]",
      "text/plain": [
       "<Figure size 432x288 with 1 Axes>"
      ]
     },
     "metadata": {
      "needs_background": "light"
     },
     "output_type": "display_data"
    }
   ],
   "source": [
    "plt.plot(1, 1, 'o')\n",
    "for i in range(46):\n",
    "        plt.figtext(PMTs['x'][i]/1000,PMTs['y'][i]/1000,str(i+1), bbox={\"boxstyle\" : \"circle\", \"color\":\"grey\"})       \n",
    "plt.show()"
   ]
  },
  {
   "cell_type": "code",
   "execution_count": 239,
   "metadata": {},
   "outputs": [],
   "source": [
    "def plot_detector_event(PMTs, ch_areas, event_number):\n",
    "    \n",
    "    low = np.min(ch_areas[event_number])\n",
    "    high = np.max(ch_areas[event_number])\n",
    "    window = high - low\n",
    "    labels = [low + window*x for x in np.linspace(0,1,6)]\n",
    "    labels = [f'{i:.1f}' for i in labels]\n",
    "    cmap = cm.get_cmap('jet')\n",
    "    \n",
    "    fig, ax = plt.subplots(figsize=(12, 9.4))\n",
    "    \n",
    "    colors = [cmap((area - low)/window) for area in ch_areas[event_number]]\n",
    "    cbar = fig.colorbar(plt.cm.ScalarMappable(cmap='jet'), ax=ax)\n",
    "    cbar.ax.set_yticklabels(labels, fontsize=15)\n",
    "    cbar.set_label('PMT charge [pe]', rotation=270, labelpad=25, fontsize=15)\n",
    "    \n",
    "    ax.scatter(PMTs['x'], PMTs['y'], c=colors, s=200)\n",
    "    ax.set_xlim([-1800, 1800])\n",
    "    ax.set_ylim([-1800, 1800])\n",
    "    plt.axis('off')\n",
    "#    ax.set_xlabel('x-position [mm]')\n",
    "#    ax.set_ylabel('y-position [mmm]')\n",
    "#    ax.legend()\n",
    "    plt.show()"
   ]
  },
  {
   "cell_type": "code",
   "execution_count": 245,
   "metadata": {},
   "outputs": [
    {
     "data": {
      "image/png": "[encoded data removed]",
      "text/plain": [
       "<Figure size 864x676.8 with 2 Axes>"
      ]
     },
     "metadata": {
      "needs_background": "light"
     },
     "output_type": "display_data"
    }
   ],
   "source": [
    "i = 1\n",
    "plot_detector_event(PMTs, areas, args[i][0])"
   ]
  },
  {
   "cell_type": "code",
   "execution_count": 155,
   "metadata": {},
   "outputs": [],
   "source": [
    "args = np.argwhere((aux_ch_areas[:, 0]/50>15)|(aux_ch_areas[:, 1]/50>15))"
   ]
  },
  {
   "cell_type": "code",
   "execution_count": 157,
   "metadata": {},
   "outputs": [
    {
     "data": {
      "text/plain": [
       "253"
      ]
     },
     "execution_count": 157,
     "metadata": {},
     "output_type": "execute_result"
    }
   ],
   "source": [
    "args[0][0]"
   ]
  },
  {
   "cell_type": "code",
   "execution_count": null,
   "metadata": {},
   "outputs": [],
   "source": []
  }
 ],
 "metadata": {
  "kernelspec": {
   "display_name": "Python 3",
   "language": "python",
   "name": "python3"
  },
  "language_info": {
   "codemirror_mode": {
    "name": "ipython",
    "version": 3
   },
   "file_extension": ".py",
   "mimetype": "text/x-python",
   "name": "python",
   "nbconvert_exporter": "python",
   "pygments_lexer": "ipython3",
   "version": "3.7.6"
  }
 },
 "nbformat": 4,
 "nbformat_minor": 4
}
